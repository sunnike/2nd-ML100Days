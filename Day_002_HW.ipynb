{
 "cells": [
  {
   "cell_type": "code",
   "execution_count": 1,
   "metadata": {},
   "outputs": [],
   "source": [
    "import os\n",
    "import numpy as np\n",
    "import pandas as pd"
   ]
  },
  {
   "cell_type": "code",
   "execution_count": 2,
   "metadata": {},
   "outputs": [],
   "source": [
    "# 設定 data_path\n",
    "dir_data = './data/'"
   ]
  },
  {
   "cell_type": "code",
   "execution_count": 23,
   "metadata": {},
   "outputs": [
    {
     "name": "stdout",
     "output_type": "stream",
     "text": [
      "Path of read in data: ./data/application_train.csv\n"
     ]
    }
   ],
   "source": [
    "f_app = os.path.join(dir_data, 'application_train.csv')\n",
    "print('Path of read in data: %s' % (f_app))\n",
    "app_train = pd.read_csv(f_app)"
   ]
  },
  {
   "cell_type": "code",
   "execution_count": 25,
   "metadata": {},
   "outputs": [
    {
     "name": "stdout",
     "output_type": "stream",
     "text": [
      "(307511, 122)\n"
     ]
    }
   ],
   "source": [
    "#資料的 row 數以及 column 數\n",
    "print(app_train.shape)"
   ]
  },
  {
   "cell_type": "code",
   "execution_count": 51,
   "metadata": {},
   "outputs": [
    {
     "name": "stdout",
     "output_type": "stream",
     "text": [
      "['SK_ID_CURR', 'TARGET', 'NAME_CONTRACT_TYPE', 'CODE_GENDER', 'FLAG_OWN_CAR', 'FLAG_OWN_REALTY', 'CNT_CHILDREN', 'AMT_INCOME_TOTAL', 'AMT_CREDIT', 'AMT_ANNUITY', 'AMT_GOODS_PRICE', 'NAME_TYPE_SUITE', 'NAME_INCOME_TYPE', 'NAME_EDUCATION_TYPE', 'NAME_FAMILY_STATUS', 'NAME_HOUSING_TYPE', 'REGION_POPULATION_RELATIVE', 'DAYS_BIRTH', 'DAYS_EMPLOYED', 'DAYS_REGISTRATION', 'DAYS_ID_PUBLISH', 'OWN_CAR_AGE', 'FLAG_MOBIL', 'FLAG_EMP_PHONE', 'FLAG_WORK_PHONE', 'FLAG_CONT_MOBILE', 'FLAG_PHONE', 'FLAG_EMAIL', 'OCCUPATION_TYPE', 'CNT_FAM_MEMBERS', 'REGION_RATING_CLIENT', 'REGION_RATING_CLIENT_W_CITY', 'WEEKDAY_APPR_PROCESS_START', 'HOUR_APPR_PROCESS_START', 'REG_REGION_NOT_LIVE_REGION', 'REG_REGION_NOT_WORK_REGION', 'LIVE_REGION_NOT_WORK_REGION', 'REG_CITY_NOT_LIVE_CITY', 'REG_CITY_NOT_WORK_CITY', 'LIVE_CITY_NOT_WORK_CITY', 'ORGANIZATION_TYPE', 'EXT_SOURCE_1', 'EXT_SOURCE_2', 'EXT_SOURCE_3', 'APARTMENTS_AVG', 'BASEMENTAREA_AVG', 'YEARS_BEGINEXPLUATATION_AVG', 'YEARS_BUILD_AVG', 'COMMONAREA_AVG', 'ELEVATORS_AVG', 'ENTRANCES_AVG', 'FLOORSMAX_AVG', 'FLOORSMIN_AVG', 'LANDAREA_AVG', 'LIVINGAPARTMENTS_AVG', 'LIVINGAREA_AVG', 'NONLIVINGAPARTMENTS_AVG', 'NONLIVINGAREA_AVG', 'APARTMENTS_MODE', 'BASEMENTAREA_MODE', 'YEARS_BEGINEXPLUATATION_MODE', 'YEARS_BUILD_MODE', 'COMMONAREA_MODE', 'ELEVATORS_MODE', 'ENTRANCES_MODE', 'FLOORSMAX_MODE', 'FLOORSMIN_MODE', 'LANDAREA_MODE', 'LIVINGAPARTMENTS_MODE', 'LIVINGAREA_MODE', 'NONLIVINGAPARTMENTS_MODE', 'NONLIVINGAREA_MODE', 'APARTMENTS_MEDI', 'BASEMENTAREA_MEDI', 'YEARS_BEGINEXPLUATATION_MEDI', 'YEARS_BUILD_MEDI', 'COMMONAREA_MEDI', 'ELEVATORS_MEDI', 'ENTRANCES_MEDI', 'FLOORSMAX_MEDI', 'FLOORSMIN_MEDI', 'LANDAREA_MEDI', 'LIVINGAPARTMENTS_MEDI', 'LIVINGAREA_MEDI', 'NONLIVINGAPARTMENTS_MEDI', 'NONLIVINGAREA_MEDI', 'FONDKAPREMONT_MODE', 'HOUSETYPE_MODE', 'TOTALAREA_MODE', 'WALLSMATERIAL_MODE', 'EMERGENCYSTATE_MODE', 'OBS_30_CNT_SOCIAL_CIRCLE', 'DEF_30_CNT_SOCIAL_CIRCLE', 'OBS_60_CNT_SOCIAL_CIRCLE', 'DEF_60_CNT_SOCIAL_CIRCLE', 'DAYS_LAST_PHONE_CHANGE', 'FLAG_DOCUMENT_2', 'FLAG_DOCUMENT_3', 'FLAG_DOCUMENT_4', 'FLAG_DOCUMENT_5', 'FLAG_DOCUMENT_6', 'FLAG_DOCUMENT_7', 'FLAG_DOCUMENT_8', 'FLAG_DOCUMENT_9', 'FLAG_DOCUMENT_10', 'FLAG_DOCUMENT_11', 'FLAG_DOCUMENT_12', 'FLAG_DOCUMENT_13', 'FLAG_DOCUMENT_14', 'FLAG_DOCUMENT_15', 'FLAG_DOCUMENT_16', 'FLAG_DOCUMENT_17', 'FLAG_DOCUMENT_18', 'FLAG_DOCUMENT_19', 'FLAG_DOCUMENT_20', 'FLAG_DOCUMENT_21', 'AMT_REQ_CREDIT_BUREAU_HOUR', 'AMT_REQ_CREDIT_BUREAU_DAY', 'AMT_REQ_CREDIT_BUREAU_WEEK', 'AMT_REQ_CREDIT_BUREAU_MON', 'AMT_REQ_CREDIT_BUREAU_QRT', 'AMT_REQ_CREDIT_BUREAU_YEAR']\n"
     ]
    }
   ],
   "source": [
    "#列出所有欄位\n",
    "print(app_train.columns.tolist())"
   ]
  },
  {
   "cell_type": "code",
   "execution_count": 74,
   "metadata": {},
   "outputs": [
    {
     "name": "stdout",
     "output_type": "stream",
     "text": [
      "      SK_ID_CURR  TARGET NAME_CONTRACT_TYPE CODE_GENDER FLAG_OWN_CAR  \\\n",
      "1000      101157       0         Cash loans           F            Y   \n",
      "1001      101158       0    Revolving loans           M            Y   \n",
      "1002      101159       0         Cash loans           M            Y   \n",
      "1003      101161       0         Cash loans           F            N   \n",
      "1004      101162       0         Cash loans           F            N   \n",
      "\n",
      "     FLAG_OWN_REALTY  CNT_CHILDREN  AMT_INCOME_TOTAL  AMT_CREDIT  AMT_ANNUITY  \\\n",
      "1000               Y             0          135000.0    679500.0      22585.5   \n",
      "1001               Y             0          180000.0    180000.0       9000.0   \n",
      "1002               Y             0           99000.0    545040.0      20677.5   \n",
      "1003               N             0          135000.0   1546020.0      47038.5   \n",
      "1004               Y             1           99000.0    746271.0      31747.5   \n",
      "\n",
      "                 ...              FLAG_DOCUMENT_18 FLAG_DOCUMENT_19  \\\n",
      "1000             ...                             0                0   \n",
      "1001             ...                             0                0   \n",
      "1002             ...                             0                0   \n",
      "1003             ...                             0                0   \n",
      "1004             ...                             0                0   \n",
      "\n",
      "     FLAG_DOCUMENT_20 FLAG_DOCUMENT_21 AMT_REQ_CREDIT_BUREAU_HOUR  \\\n",
      "1000                0                0                        0.0   \n",
      "1001                0                0                        0.0   \n",
      "1002                0                0                        0.0   \n",
      "1003                0                0                        NaN   \n",
      "1004                0                0                        0.0   \n",
      "\n",
      "     AMT_REQ_CREDIT_BUREAU_DAY  AMT_REQ_CREDIT_BUREAU_WEEK  \\\n",
      "1000                       0.0                         0.0   \n",
      "1001                       0.0                         0.0   \n",
      "1002                       0.0                         0.0   \n",
      "1003                       NaN                         NaN   \n",
      "1004                       0.0                         0.0   \n",
      "\n",
      "      AMT_REQ_CREDIT_BUREAU_MON  AMT_REQ_CREDIT_BUREAU_QRT  \\\n",
      "1000                        0.0                        0.0   \n",
      "1001                        0.0                        0.0   \n",
      "1002                        0.0                        0.0   \n",
      "1003                        NaN                        NaN   \n",
      "1004                        0.0                        1.0   \n",
      "\n",
      "      AMT_REQ_CREDIT_BUREAU_YEAR  \n",
      "1000                         0.0  \n",
      "1001                         1.0  \n",
      "1002                         1.0  \n",
      "1003                         NaN  \n",
      "1004                         0.0  \n",
      "\n",
      "[5 rows x 122 columns]\n",
      "        AMT_INCOME_TOTAL  AMT_ANNUITY\n",
      "0             202500.000      24700.5\n",
      "1             270000.000      35698.5\n",
      "2              67500.000       6750.0\n",
      "3             135000.000      29686.5\n",
      "4             121500.000      21865.5\n",
      "5              99000.000      27517.5\n",
      "6             171000.000      41301.0\n",
      "7             360000.000      42075.0\n",
      "8             112500.000      33826.5\n",
      "9             135000.000      20250.0\n",
      "10            112500.000      21177.0\n",
      "11             38419.155      10678.5\n",
      "12             67500.000       5881.5\n",
      "13            225000.000      28966.5\n",
      "14            189000.000      32778.0\n",
      "15            157500.000      20160.0\n",
      "16            108000.000      26149.5\n",
      "17             81000.000      13500.0\n",
      "18            112500.000       7875.0\n",
      "19             90000.000      17563.5\n",
      "20            135000.000      21375.0\n",
      "21            202500.000      37561.5\n",
      "22            450000.000      32521.5\n",
      "23             83250.000      23850.0\n",
      "24            135000.000      12703.5\n",
      "25             90000.000      11074.5\n",
      "26            112500.000      27076.5\n",
      "27            112500.000      23827.5\n",
      "28            270000.000      57676.5\n",
      "29             90000.000       9000.0\n",
      "...                  ...          ...\n",
      "307481        225000.000      19975.5\n",
      "307482        225000.000      34969.5\n",
      "307483         99000.000      16479.0\n",
      "307484        540000.000      35617.5\n",
      "307485        270000.000       9000.0\n",
      "307486        292500.000      18283.5\n",
      "307487        117000.000      31473.0\n",
      "307488        157500.000      13351.5\n",
      "307489        225000.000      23089.5\n",
      "307490         81000.000       9148.5\n",
      "307491         90000.000      31522.5\n",
      "307492        585000.000      43443.0\n",
      "307493        135000.000      37678.5\n",
      "307494        270000.000      46858.5\n",
      "307495        180000.000      23773.5\n",
      "307496        360000.000      16875.0\n",
      "307497        180000.000      12028.5\n",
      "307498        198000.000      52168.5\n",
      "307499         81000.000      12694.5\n",
      "307500        261000.000      35982.0\n",
      "307501         81000.000      11871.0\n",
      "307502         94500.000      10620.0\n",
      "307503        112500.000      17770.5\n",
      "307504        153000.000      16096.5\n",
      "307505        112500.000      22050.0\n",
      "307506        157500.000      27558.0\n",
      "307507         72000.000      12001.5\n",
      "307508        153000.000      29979.0\n",
      "307509        171000.000      20205.0\n",
      "307510        157500.000      49117.5\n",
      "\n",
      "[307511 rows x 2 columns]\n",
      "        SK_ID_CURR  TARGET NAME_CONTRACT_TYPE CODE_GENDER FLAG_OWN_CAR  \\\n",
      "307506      456251       0         Cash loans           M            N   \n",
      "307507      456252       0         Cash loans           F            N   \n",
      "307508      456253       0         Cash loans           F            N   \n",
      "307509      456254       1         Cash loans           F            N   \n",
      "307510      456255       0         Cash loans           F            N   \n",
      "\n",
      "       FLAG_OWN_REALTY  CNT_CHILDREN  AMT_INCOME_TOTAL  AMT_CREDIT  \\\n",
      "307506               N             0          157500.0    254700.0   \n",
      "307507               Y             0           72000.0    269550.0   \n",
      "307508               Y             0          153000.0    677664.0   \n",
      "307509               Y             0          171000.0    370107.0   \n",
      "307510               N             0          157500.0    675000.0   \n",
      "\n",
      "        AMT_ANNUITY             ...              FLAG_DOCUMENT_18  \\\n",
      "307506      27558.0             ...                             0   \n",
      "307507      12001.5             ...                             0   \n",
      "307508      29979.0             ...                             0   \n",
      "307509      20205.0             ...                             0   \n",
      "307510      49117.5             ...                             0   \n",
      "\n",
      "       FLAG_DOCUMENT_19 FLAG_DOCUMENT_20 FLAG_DOCUMENT_21  \\\n",
      "307506                0                0                0   \n",
      "307507                0                0                0   \n",
      "307508                0                0                0   \n",
      "307509                0                0                0   \n",
      "307510                0                0                0   \n",
      "\n",
      "       AMT_REQ_CREDIT_BUREAU_HOUR AMT_REQ_CREDIT_BUREAU_DAY  \\\n",
      "307506                        NaN                       NaN   \n",
      "307507                        NaN                       NaN   \n",
      "307508                        1.0                       0.0   \n",
      "307509                        0.0                       0.0   \n",
      "307510                        0.0                       0.0   \n",
      "\n",
      "        AMT_REQ_CREDIT_BUREAU_WEEK  AMT_REQ_CREDIT_BUREAU_MON  \\\n",
      "307506                         NaN                        NaN   \n",
      "307507                         NaN                        NaN   \n",
      "307508                         0.0                        1.0   \n",
      "307509                         0.0                        0.0   \n",
      "307510                         0.0                        2.0   \n",
      "\n",
      "        AMT_REQ_CREDIT_BUREAU_QRT  AMT_REQ_CREDIT_BUREAU_YEAR  \n",
      "307506                        NaN                         NaN  \n",
      "307507                        NaN                         NaN  \n",
      "307508                        0.0                         1.0  \n",
      "307509                        0.0                         0.0  \n",
      "307510                        0.0                         1.0  \n",
      "\n",
      "[5 rows x 122 columns]\n"
     ]
    }
   ],
   "source": [
    "#截取部分資料\n",
    "print(app_train[1000:1005])\n",
    "print(app_train[['AMT_INCOME_TOTAL','AMT_ANNUITY']])\n",
    "print(app_train.tail(5))"
   ]
  }
 ],
 "metadata": {
  "kernelspec": {
   "display_name": "Python 3",
   "language": "python",
   "name": "python3"
  },
  "language_info": {
   "codemirror_mode": {
    "name": "ipython",
    "version": 3
   },
   "file_extension": ".py",
   "mimetype": "text/x-python",
   "name": "python",
   "nbconvert_exporter": "python",
   "pygments_lexer": "ipython3",
   "version": "3.7.1"
  }
 },
 "nbformat": 4,
 "nbformat_minor": 2
}
