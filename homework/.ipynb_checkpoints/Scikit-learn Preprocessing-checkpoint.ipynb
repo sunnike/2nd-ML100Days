{
 "cells": [
  {
   "cell_type": "code",
   "execution_count": 13,
   "metadata": {},
   "outputs": [
    {
     "name": "stdout",
     "output_type": "stream",
     "text": [
      "[1.25 2.25 3.25]\n",
      "[0.25 0.25 0.25]\n",
      "[[-1. -1. -1.]\n",
      " [ 1.  1.  1.]]\n"
     ]
    },
    {
     "data": {
      "text/plain": [
       "array([[-1., -1., -1.],\n",
       "       [ 1.,  1.,  1.]])"
      ]
     },
     "execution_count": 13,
     "metadata": {},
     "output_type": "execute_result"
    }
   ],
   "source": [
    "from sklearn import preprocessing \n",
    "import numpy as np\n",
    "X = np.array([[ 1.,    2.,    3.],\n",
    "              [ 1.5,   2.5,   3.5],\n",
    "              [ -1.5, -2.5,  -3.5]])\n",
    "# calculate mean\n",
    "X_mean = X.mean(axis=0)\n",
    "print(X_mean)\n",
    "# calculate variance \n",
    "X_std = X.std(axis=0)\n",
    "print(X_std)\n",
    "# standardize X\n",
    "X1 = (X-X_mean)/X_std\n",
    "print(X1)\n",
    "X_scale = preprocessing.scale(X)\n",
    "X_scale"
   ]
  },
  {
   "cell_type": "code",
   "execution_count": 14,
   "metadata": {},
   "outputs": [
    {
     "data": {
      "text/plain": [
       "array([[0., 0., 0.],\n",
       "       [1., 1., 1.]])"
      ]
     },
     "execution_count": 14,
     "metadata": {},
     "output_type": "execute_result"
    }
   ],
   "source": [
    "min_max_scaler = preprocessing.MinMaxScaler()\n",
    "X_minMax = min_max_scaler.fit_transform(X)\n",
    "X_minMax"
   ]
  },
  {
   "cell_type": "code",
   "execution_count": null,
   "metadata": {},
   "outputs": [],
   "source": []
  }
 ],
 "metadata": {
  "kernelspec": {
   "display_name": "Python 3",
   "language": "python",
   "name": "python3"
  },
  "language_info": {
   "codemirror_mode": {
    "name": "ipython",
    "version": 3
   },
   "file_extension": ".py",
   "mimetype": "text/x-python",
   "name": "python",
   "nbconvert_exporter": "python",
   "pygments_lexer": "ipython3",
   "version": "3.7.1"
  }
 },
 "nbformat": 4,
 "nbformat_minor": 2
}
