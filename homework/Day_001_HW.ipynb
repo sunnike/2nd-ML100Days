{
 "cells": [
  {
   "cell_type": "code",
   "execution_count": 67,
   "metadata": {},
   "outputs": [
    {
     "data": {
      "text/plain": [
       "'\\n作業1：\\n\\n請上 Kaggle, 在 Competitions 或 Dataset 中找一組競賽或資料並寫下：\\n\\n1. 你選的這組資料為何重要\\n   https://www.kaggle.com/c/telstra-recruiting-network\\nAns: 因為之後是5G與Edge Computing世代，像是自駕車與遠端醫療儀器要事先預知危險來做預防，提早一秒也許就能改變很多事情。\\n\\n2. 資料從何而來 (tips: 譬如提供者是誰、以什麼方式蒐集)\\nAns: 從平常資料的硬體訊號強度來、平均傳輸時間與錯誤封包等等來判斷\\n\\n3. 蒐集而來的資料型態為何\\nAns: 結構化資料\\n\\n4. 這組資料想解決的問題如何評估\\nAns: 評估傳輸時間、訊號強度與錯誤封包之間的關係\\n\\n'"
      ]
     },
     "execution_count": 67,
     "metadata": {},
     "output_type": "execute_result"
    }
   ],
   "source": [
    "\"\"\"\n",
    "作業1：\n",
    "\n",
    "請上 Kaggle, 在 Competitions 或 Dataset 中找一組競賽或資料並寫下：\n",
    "\n",
    "1. 你選的這組資料為何重要\n",
    "   https://www.kaggle.com/c/telstra-recruiting-network\n",
    "Ans: 因為之後是5G與Edge Computing世代，像是自駕車與遠端醫療儀器要事先預知危險來做預防，提早一秒也許就能改變很多事情。\n",
    "\n",
    "2. 資料從何而來 (tips: 譬如提供者是誰、以什麼方式蒐集)\n",
    "Ans: 從平常資料的硬體訊號強度來、平均傳輸時間與錯誤封包等等來判斷\n",
    "\n",
    "3. 蒐集而來的資料型態為何\n",
    "Ans: 結構化資料\n",
    "\n",
    "4. 這組資料想解決的問題如何評估\n",
    "Ans: 評估傳輸時間、訊號強度與錯誤封包之間的關係\n",
    "\n",
    "\"\"\""
   ]
  },
  {
   "cell_type": "code",
   "execution_count": 68,
   "metadata": {},
   "outputs": [
    {
     "data": {
      "text/plain": [
       "'\\n作業2：\\n\\n想像你經營一個自由載客車隊，你希望能透過數據分析以提升業績，請你思考並描述你如何規劃整體的分析/解決方案：\\n\\n1. 核心問題為何 (tips：如何定義 「提升業績 & 你的假設」)\\nAns: 提升載客數、預測旅客搭乘與下車地點、計算最佳路徑與油耗。    \\n\\n2. 資料從何而來 (tips：哪些資料可能會對你想問的問題產生影響 & 資料如何蒐集)\\nAns: 政府或民間相關組織獲得，例如地鐵旅客各站進出人數與遊客旅遊路徑等等\\n\\n3. 蒐集而來的資料型態為何?\\nAns: 結構化資料，應該會包含旅客上/下車位置的地理數值、乘車的日期、時間與距離、乘客性別與人數、行走行為與停止時間等等。\\n\\n4. 你要回答的問題，其如何評估 (tips：你的假設如何驗證)\\nAns: 粗略的評估，上下車位置的資料視覺化、距離與乘車時間的視覺化還有 日期與行走時間的視覺化，\\n這樣初步大略可以知道在哪一天在哪個地點載客可以載比較多人與相對省油。\\n'"
      ]
     },
     "execution_count": 68,
     "metadata": {},
     "output_type": "execute_result"
    }
   ],
   "source": [
    "\"\"\"\n",
    "作業2：\n",
    "\n",
    "想像你經營一個自由載客車隊，你希望能透過數據分析以提升業績，請你思考並描述你如何規劃整體的分析/解決方案：\n",
    "\n",
    "1. 核心問題為何 (tips：如何定義 「提升業績 & 你的假設」)\n",
    "Ans: 提升載客數、預測旅客搭乘與下車地點、計算最佳路徑與油耗。    \n",
    "\n",
    "2. 資料從何而來 (tips：哪些資料可能會對你想問的問題產生影響 & 資料如何蒐集)\n",
    "Ans: 政府或民間相關組織獲得，例如地鐵旅客各站進出人數與遊客旅遊路徑等等\n",
    "\n",
    "3. 蒐集而來的資料型態為何?\n",
    "Ans: 結構化資料，應該會包含旅客上/下車位置的地理數值、乘車的日期、時間與距離、乘客性別與人數、行走行為與停止時間等等。\n",
    "\n",
    "4. 你要回答的問題，其如何評估 (tips：你的假設如何驗證)\n",
    "Ans: 粗略的評估，上下車位置的資料視覺化、距離與乘車時間的視覺化還有 日期與行走時間的視覺化，\n",
    "這樣初步大略可以知道在哪一天在哪個地點載客可以載比較多人與相對省油。\n",
    "\"\"\""
   ]
  },
  {
   "cell_type": "code",
   "execution_count": 1,
   "metadata": {},
   "outputs": [],
   "source": [
    "import numpy as np\n",
    "import matplotlib.pyplot as plt"
   ]
  },
  {
   "cell_type": "code",
   "execution_count": 2,
   "metadata": {},
   "outputs": [],
   "source": [
    "## 平均絕對誤差 \n",
    "def mean_absolute_error(y, yp):\n",
    "    \"\"\"\n",
    "    計算 MAE\n",
    "    Args:\n",
    "        - y: 實際值\n",
    "        - yp: 預測值\n",
    "    Return:\n",
    "        - mae: MAE\n",
    "    \"\"\"\n",
    "    mae = MAE = sum(abs(y - yp)) / len(y)\n",
    "    return mae\n"
   ]
  },
  {
   "cell_type": "code",
   "execution_count": 3,
   "metadata": {},
   "outputs": [],
   "source": [
    "## 均方誤差\n",
    "def mean_squared_error(y, yp):\n",
    "\n",
    "    \"\"\"\n",
    "    計算 MSE\n",
    "    Args:\n",
    "        - y: 實際值\n",
    "        - yp: 預測值\n",
    "    Return:\n",
    "        - mse: MSE\n",
    "    \"\"\"\n",
    "    mse = MSE = sum(np.square(y - yp)) / len(y)\n",
    "    return mse\n"
   ]
  },
  {
   "cell_type": "code",
   "execution_count": 5,
   "metadata": {},
   "outputs": [
    {
     "data": {
      "image/png": "[encoded data removed]",
      "text/plain": [
       "<Figure size 432x288 with 1 Axes>"
      ]
     },
     "metadata": {
      "needs_background": "light"
     },
     "output_type": "display_data"
    }
   ],
   "source": [
    "w = 3\n",
    "b = 0.5\n",
    "\n",
    "x_lin = np.linspace(0, 100, 101)\n",
    "\n",
    "y = (x_lin + np.random.randn(101) * 5) * w + b\n",
    "\n",
    "plt.plot(x_lin, y, 'b.', label = 'data points')\n",
    "plt.title(\"Assume we have data points\")\n",
    "plt.legend(loc = 2)\n",
    "plt.show()"
   ]
  },
  {
   "cell_type": "code",
   "execution_count": 12,
   "metadata": {},
   "outputs": [
    {
     "data": {
      "image/png": "[encoded data removed]",
      "text/plain": [
       "<Figure size 432x288 with 1 Axes>"
      ]
     },
     "metadata": {
      "needs_background": "light"
     },
     "output_type": "display_data"
    }
   ],
   "source": [
    "y_hat = x_lin * w + b\n",
    "plt.plot(x_lin, y, 'b.', label = 'data')\n",
    "plt.plot(x_lin, y_hat, 'r-', label = 'prediction')\n",
    "plt.title(\"Assume we have data points (And the prediction)\")\n",
    "plt.legend(loc = 2)\n",
    "plt.show()"
   ]
  },
  {
   "cell_type": "code",
   "execution_count": 74,
   "metadata": {},
   "outputs": [
    {
     "name": "stdout",
     "output_type": "stream",
     "text": [
      "The Mean squared error is 219.263\n",
      "The Mean absolute error is 12.085\n"
     ]
    }
   ],
   "source": [
    "MSE = mean_squared_error(y, y_hat)\n",
    "MAE = mean_absolute_error(y, y_hat)\n",
    "print(\"The Mean squared error is %.3f\" % (MSE))\n",
    "print(\"The Mean absolute error is %.3f\" % (MAE))"
   ]
  }
 ],
 "metadata": {
  "kernelspec": {
   "display_name": "Python 3",
   "language": "python",
   "name": "python3"
  },
  "language_info": {
   "codemirror_mode": {
    "name": "ipython",
    "version": 3
   },
   "file_extension": ".py",
   "mimetype": "text/x-python",
   "name": "python",
   "nbconvert_exporter": "python",
   "pygments_lexer": "ipython3",
   "version": "3.7.1"
  }
 },
 "nbformat": 4,
 "nbformat_minor": 2
}
