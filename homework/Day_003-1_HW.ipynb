{
 "cells": [
  {
   "cell_type": "code",
   "execution_count": 57,
   "metadata": {},
   "outputs": [],
   "source": [
    "import pandas as pd\n",
    "import numpy as np"
   ]
  },
  {
   "cell_type": "code",
   "execution_count": 58,
   "metadata": {},
   "outputs": [
    {
     "name": "stdout",
     "output_type": "stream",
     "text": [
      "   Nation  Population\n",
      "0  Taiwan   622298948\n",
      "1     USA   127960241\n",
      "2   Japan   410655429\n",
      "3   Korea   372665842\n",
      "4  Brazil   550041715\n"
     ]
    }
   ],
   "source": [
    "arr = [\"Taiwan\",\"USA\",\"Japan\",\"Korea\",\"Brazil\"]\n",
    "df = pd.DataFrame({'Nation':pd.Categorical(arr),\n",
    "                   'Population':np.random.randint(10000000, 999999999,size=len(arr))})\n",
    "print(df)"
   ]
  },
  {
   "cell_type": "code",
   "execution_count": 59,
   "metadata": {},
   "outputs": [
    {
     "name": "stdout",
     "output_type": "stream",
     "text": [
      "Taiwan\n",
      "622298948\n"
     ]
    }
   ],
   "source": [
    "print(df['Nation'][df['Population'].idxmax()])\n",
    "print(df['Population'].max())"
   ]
  }
 ],
 "metadata": {
  "kernelspec": {
   "display_name": "Python 3",
   "language": "python",
   "name": "python3"
  },
  "language_info": {
   "codemirror_mode": {
    "name": "ipython",
    "version": 3
   },
   "file_extension": ".py",
   "mimetype": "text/x-python",
   "name": "python",
   "nbconvert_exporter": "python",
   "pygments_lexer": "ipython3",
   "version": "3.7.1"
  }
 },
 "nbformat": 4,
 "nbformat_minor": 2
}
