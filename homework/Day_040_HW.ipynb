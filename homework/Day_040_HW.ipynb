{
 "cells": [
  {
   "cell_type": "markdown",
   "metadata": {},
   "source": [
    "## [作業重點]\n",
    "使用 Sklearn 中的 Lasso, Ridge 模型，來訓練各種資料集，務必了解送進去模型訓練的**資料型態**為何，也請了解模型中各項參數的意義。\n",
    "\n",
    "機器學習的模型非常多種，但要訓練的資料多半有固定的格式，確保你了解訓練資料的格式為何，這樣在應用新模型時，就能夠最快的上手開始訓練！"
   ]
  },
  {
   "cell_type": "markdown",
   "metadata": {},
   "source": [
    "## 練習時間\n",
    "試著使用 sklearn datasets 的其他資料集 (boston, ...)，來訓練自己的線性迴歸模型，並加上適當的正則話來觀察訓練情形。"
   ]
  },
  {
   "cell_type": "code",
   "execution_count": 1,
   "metadata": {},
   "outputs": [],
   "source": [
    "import numpy as np\n",
    "\n",
    "import matplotlib.pyplot as plt\n",
    "from sklearn import linear_model\n",
    "from sklearn import datasets, linear_model\n",
    "from sklearn.model_selection import train_test_split\n",
    "from sklearn.metrics import mean_squared_error, r2_score"
   ]
  },
  {
   "cell_type": "code",
   "execution_count": 2,
   "metadata": {},
   "outputs": [
    {
     "name": "stdout",
     "output_type": "stream",
     "text": [
      "['CRIM' 'ZN' 'INDUS' 'CHAS' 'NOX' 'RM' 'AGE' 'DIS' 'RAD' 'TAX' 'PTRATIO'\n",
      " 'B' 'LSTAT']\n"
     ]
    },
    {
     "data": {
      "text/plain": [
       "array([11.46030778, 26.80269335, 17.43478925, 17.5563101 , 37.39156424,\n",
       "       25.07675556, 31.05825852, 20.30845531, 19.66757374, 22.82655375,\n",
       "       28.47083056, 28.53331605, 18.72883256, 33.11375161, 21.34282974,\n",
       "       15.20554693, 21.57309275, 10.92841589, 11.69603405, 13.54311508,\n",
       "        5.07126801, 17.40464043, 20.69379268, 22.72981238, 16.4634139 ,\n",
       "       20.42666271, 17.53377349, 14.22644356, 21.56292745, 17.33136115,\n",
       "       14.28888479, 23.92829804, 34.31523522, 22.03799035, 17.47895779,\n",
       "       20.20386005, 30.70896335, 35.21599528, 24.07063567, 24.51445184,\n",
       "       36.77425366, 33.15265201, 19.67545976, 31.93505104, 33.55222906,\n",
       "       25.59147737, 40.59239607, 17.99555017, 19.92780188, 23.65319423,\n",
       "       33.48950986])"
      ]
     },
     "execution_count": 2,
     "metadata": {},
     "output_type": "execute_result"
    }
   ],
   "source": [
    "# 讀取 Boston 資料\n",
    "boston = datasets.load_boston()\n",
    "print(boston['feature_names'])\n",
    "# 切分訓練集/測試集\n",
    "x_train, x_test, y_train, y_test = train_test_split(boston.data, boston.target, test_size=0.1, random_state=4)\n",
    "\n",
    "# 建立一個線性回歸模型\n",
    "linear = linear_model.LinearRegression()\n",
    "\n",
    "# 將訓練資料丟進去模型訓練\n",
    "linear.fit(x_train, y_train)\n",
    "# 將測試資料丟進模型得到預測結果\n",
    "y_pred = linear.predict(x_test)\n",
    "y_pred"
   ]
  },
  {
   "cell_type": "code",
   "execution_count": 3,
   "metadata": {},
   "outputs": [
    {
     "name": "stdout",
     "output_type": "stream",
     "text": [
      "[Linear] Mean squared error: 17.04\n"
     ]
    }
   ],
   "source": [
    "# 預測值與實際值的差距，使用 MSE\n",
    "print(\"[Linear] Mean squared error: %.2f\"\n",
    "      % mean_squared_error(y_test, y_pred))"
   ]
  },
  {
   "cell_type": "code",
   "execution_count": 4,
   "metadata": {},
   "outputs": [
    {
     "name": "stdout",
     "output_type": "stream",
     "text": [
      "['CRIM' 'ZN' 'INDUS' 'CHAS' 'NOX' 'RM' 'AGE' 'DIS' 'RAD' 'TAX' 'PTRATIO'\n",
      " 'B' 'LSTAT']\n"
     ]
    },
    {
     "data": {
      "text/plain": [
       "array([11.42355859, 26.78655908, 17.41098991, 17.46207207, 37.37035135,\n",
       "       25.05842752, 31.0922101 , 20.26392075, 19.60271154, 22.91857662,\n",
       "       28.51328472, 28.51992372, 18.74078277, 33.03963135, 21.36102764,\n",
       "       15.22722233, 21.56879726, 10.93106084, 11.63531189, 13.56141341,\n",
       "        5.07874282, 17.53134918, 20.6590332 , 22.71088223, 16.47878995,\n",
       "       20.41402873, 17.43644602, 14.23060093, 21.51408164, 17.30410643,\n",
       "       14.28836803, 23.93443652, 34.34860737, 22.02458092, 17.49653332,\n",
       "       20.19265164, 30.71009255, 35.23310643, 24.0822008 , 24.49657877,\n",
       "       36.77103784, 33.12039568, 19.7056268 , 31.92853984, 33.4778547 ,\n",
       "       25.56297271, 40.58231036, 17.95305431, 19.97520084, 23.64428141,\n",
       "       33.48826857])"
      ]
     },
     "execution_count": 4,
     "metadata": {},
     "output_type": "execute_result"
    }
   ],
   "source": [
    "# 讀取 Boston 資料\n",
    "boston = datasets.load_boston()\n",
    "print(boston['feature_names'])\n",
    "# 切分訓練集/測試集\n",
    "x_train, x_test, y_train, y_test = train_test_split(boston.data, boston.target, test_size=0.1, random_state=4)\n",
    "\n",
    "# 建立一個Lasso回歸模型\n",
    "lasso = linear_model.Lasso(alpha=0.002)\n",
    "\n",
    "# 將訓練資料丟進去模型訓練\n",
    "lasso.fit(x_train, y_train)\n",
    "# 將測試資料丟進模型得到預測結果\n",
    "y_pred = lasso.predict(x_test)\n",
    "y_pred"
   ]
  },
  {
   "cell_type": "code",
   "execution_count": 5,
   "metadata": {},
   "outputs": [
    {
     "name": "stdout",
     "output_type": "stream",
     "text": [
      "[-1.25501542e-01  4.85199500e-02  1.56350219e-02  3.04447387e+00\n",
      " -1.66467504e+01  3.61844053e+00  1.63634198e-03 -1.48326679e+00\n",
      "  3.18347720e-01 -1.27779736e-02 -9.20471285e-01  9.54242113e-03\n",
      " -5.34823591e-01]\n",
      "[Lasso] Mean squared error: 17.04\n"
     ]
    }
   ],
   "source": [
    "print(lasso.coef_)\n",
    "# 預測值與實際值的差距，使用 MSE\n",
    "print(\"[Lasso] Mean squared error: %.2f\"\n",
    "      % mean_squared_error(y_test, y_pred))"
   ]
  },
  {
   "cell_type": "code",
   "execution_count": 6,
   "metadata": {},
   "outputs": [
    {
     "name": "stdout",
     "output_type": "stream",
     "text": [
      "['CRIM' 'ZN' 'INDUS' 'CHAS' 'NOX' 'RM' 'AGE' 'DIS' 'RAD' 'TAX' 'PTRATIO'\n",
      " 'B' 'LSTAT']\n"
     ]
    },
    {
     "data": {
      "text/plain": [
       "array([11.42355859, 26.78655908, 17.41098991, 17.46207207, 37.37035135,\n",
       "       25.05842752, 31.0922101 , 20.26392075, 19.60271154, 22.91857662,\n",
       "       28.51328472, 28.51992372, 18.74078277, 33.03963135, 21.36102764,\n",
       "       15.22722233, 21.56879726, 10.93106084, 11.63531189, 13.56141341,\n",
       "        5.07874282, 17.53134918, 20.6590332 , 22.71088223, 16.47878995,\n",
       "       20.41402873, 17.43644602, 14.23060093, 21.51408164, 17.30410643,\n",
       "       14.28836803, 23.93443652, 34.34860737, 22.02458092, 17.49653332,\n",
       "       20.19265164, 30.71009255, 35.23310643, 24.0822008 , 24.49657877,\n",
       "       36.77103784, 33.12039568, 19.7056268 , 31.92853984, 33.4778547 ,\n",
       "       25.56297271, 40.58231036, 17.95305431, 19.97520084, 23.64428141,\n",
       "       33.48826857])"
      ]
     },
     "execution_count": 6,
     "metadata": {},
     "output_type": "execute_result"
    }
   ],
   "source": [
    "# 讀取 Boston 資料\n",
    "boston = datasets.load_boston()\n",
    "print(boston['feature_names'])\n",
    "# 切分訓練集/測試集\n",
    "x_train, x_test, y_train, y_test = train_test_split(boston.data, boston.target, test_size=0.1, random_state=4)\n",
    "\n",
    "# 建立一個Ridge回歸模型\n",
    "ridge = linear_model.Lasso(alpha=0.002)\n",
    "\n",
    "# 將訓練資料丟進去模型訓練\n",
    "ridge.fit(x_train, y_train)\n",
    "# 將測試資料丟進模型得到預測結果\n",
    "y_pred = ridge.predict(x_test)\n",
    "y_pred"
   ]
  },
  {
   "cell_type": "code",
   "execution_count": 7,
   "metadata": {},
   "outputs": [
    {
     "name": "stdout",
     "output_type": "stream",
     "text": [
      "[-1.25501542e-01  4.85199500e-02  1.56350219e-02  3.04447387e+00\n",
      " -1.66467504e+01  3.61844053e+00  1.63634198e-03 -1.48326679e+00\n",
      "  3.18347720e-01 -1.27779736e-02 -9.20471285e-01  9.54242113e-03\n",
      " -5.34823591e-01]\n",
      "[Ridge] Mean squared error: 17.04\n"
     ]
    }
   ],
   "source": [
    "print(lasso.coef_)\n",
    "# 預測值與實際值的差距，使用 MSE\n",
    "print(\"[Ridge] Mean squared error: %.2f\"\n",
    "      % mean_squared_error(y_test, y_pred))"
   ]
  },
  {
   "cell_type": "code",
   "execution_count": null,
   "metadata": {},
   "outputs": [],
   "source": []
  }
 ],
 "metadata": {
  "kernelspec": {
   "display_name": "Python 3",
   "language": "python",
   "name": "python3"
  },
  "language_info": {
   "codemirror_mode": {
    "name": "ipython",
    "version": 3
   },
   "file_extension": ".py",
   "mimetype": "text/x-python",
   "name": "python",
   "nbconvert_exporter": "python",
   "pygments_lexer": "ipython3",
   "version": "3.7.1"
  }
 },
 "nbformat": 4,
 "nbformat_minor": 2
}
