{
 "cells": [
  {
   "cell_type": "code",
   "execution_count": 1,
   "metadata": {},
   "outputs": [
    {
     "name": "stdout",
     "output_type": "stream",
     "text": [
      "mean\n",
      " [0. 0. 0.] \n",
      "\n",
      "std\n",
      " [1.22474487 2.04124145 2.85773803] \n",
      "\n",
      "[[ 0.          0.          0.        ]\n",
      " [ 1.22474487  1.22474487  1.22474487]\n",
      " [-1.22474487 -1.22474487 -1.22474487]]\n"
     ]
    },
    {
     "data": {
      "text/plain": [
       "array([[ 0.        ,  0.        ,  0.        ],\n",
       "       [ 1.22474487,  1.22474487,  1.22474487],\n",
       "       [-1.22474487, -1.22474487, -1.22474487]])"
      ]
     },
     "execution_count": 1,
     "metadata": {},
     "output_type": "execute_result"
    }
   ],
   "source": [
    "from sklearn import preprocessing \n",
    "from sklearn.linear_model import LogisticRegression\n",
    "import numpy as np\n",
    "X = np.array([[ 0.,    0.,    0.],\n",
    "              [ 1.5,   2.5,   3.5],\n",
    "              [ -1.5, -2.5,  -3.5]])\n",
    "\n",
    "\n",
    "test_X = np.array([[ 1.,    1.,    1.],\n",
    "              [ 1.5,   2.5,   3.5],\n",
    "              [ -1.4, -2.4,  -3.4]])\n",
    "\"\"\"\n",
    "\n",
    "trainY = np.array([\n",
    "       [1],\n",
    "       [1],\n",
    "       [1],\n",
    "       [1       ],\n",
    "       [1        ],\n",
    "       [1        ],\n",
    "       [0        ],\n",
    "       [0       ],\n",
    "       [0        ]])\n",
    "\"\"\"\n",
    "\n",
    "\n",
    "trainY = np.array([0, 0, 0, 1, 1, 1, 0, 0, 0])\n",
    "\n",
    "\n",
    "# calculate mean\n",
    "X_mean = X.mean(axis=0)\n",
    "print(\"mean\\n\", X_mean, \"\\n\")\n",
    "# calculate variance \n",
    "X_std = X.std(axis=0)\n",
    "print(\"std\\n\", X_std, \"\\n\")\n",
    "# standardize X --- Z transform\n",
    "X1 = (X-X_mean)/X_std\n",
    "print(X1)\n",
    "X_scale = preprocessing.scale(X)\n",
    "X_scale"
   ]
  },
  {
   "cell_type": "code",
   "execution_count": 2,
   "metadata": {},
   "outputs": [
    {
     "name": "stdout",
     "output_type": "stream",
     "text": [
      "[[0.5 0.5 0.5]\n",
      " [1.  1.  1. ]\n",
      " [0.  0.  0. ]]\n",
      "[[0.5]\n",
      " [0.5]\n",
      " [0.5]\n",
      " [1. ]\n",
      " [1. ]\n",
      " [1. ]\n",
      " [0. ]\n",
      " [0. ]\n",
      " [0. ]]\n"
     ]
    },
    {
     "name": "stderr",
     "output_type": "stream",
     "text": [
      "C:\\Users\\Chenj\\Anaconda3\\lib\\site-packages\\sklearn\\linear_model\\logistic.py:433: FutureWarning: Default solver will be changed to 'lbfgs' in 0.22. Specify a solver to silence this warning.\n",
      "  FutureWarning)\n"
     ]
    },
    {
     "data": {
      "text/plain": [
       "array([0, 0, 0, 1, 1, 1, 0, 0, 0])"
      ]
     },
     "execution_count": 2,
     "metadata": {},
     "output_type": "execute_result"
    }
   ],
   "source": [
    "min_max_scaler = preprocessing.MinMaxScaler()\n",
    "X_minMax = min_max_scaler.fit_transform(X)\n",
    "print(X_minMax)\n",
    "## X_minMax_reshape = min_max_scaler.fit_transform(X).reshape(-1, 1) \n",
    "X_minMax_reshape = min_max_scaler.fit_transform(X).reshape(-1, 1)\n",
    "test_X_minMax_reshape = min_max_scaler.fit_transform(test_X).reshape(-1, 1)\n",
    "#utils.multiclass.type_of_target(X_minMax_reshape)\n",
    "print(X_minMax_reshape)\n",
    "estimator = LogisticRegression()\n",
    "estimator.fit(X_minMax_reshape, trainY)\n",
    "pred = estimator.predict(test_X_minMax_reshape)\n",
    "pred"
   ]
  },
  {
   "cell_type": "code",
   "execution_count": null,
   "metadata": {},
   "outputs": [],
   "source": []
  }
 ],
 "metadata": {
  "kernelspec": {
   "display_name": "Python 3",
   "language": "python",
   "name": "python3"
  },
  "language_info": {
   "codemirror_mode": {
    "name": "ipython",
    "version": 3
   },
   "file_extension": ".py",
   "mimetype": "text/x-python",
   "name": "python",
   "nbconvert_exporter": "python",
   "pygments_lexer": "ipython3",
   "version": "3.7.1"
  }
 },
 "nbformat": 4,
 "nbformat_minor": 2
}
