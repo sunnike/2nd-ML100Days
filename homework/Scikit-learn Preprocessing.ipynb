{
 "cells": [
  {
   "cell_type": "code",
   "execution_count": 1,
   "metadata": {},
   "outputs": [
    {
     "name": "stdout",
     "output_type": "stream",
     "text": [
      "mean\n",
      " [0.33333333 0.66666667 1.        ] \n",
      "\n",
      "std\n",
      " [1.31233465 2.24845626 3.18852108] \n",
      "\n",
      "[[ 0.50800051  0.59299945  0.62725005]\n",
      " [ 0.88900089  0.81537425  0.78406256]\n",
      " [-1.3970014  -1.4083737  -1.41131261]]\n"
     ]
    },
    {
     "data": {
      "text/plain": [
       "array([[ 0.50800051,  0.59299945,  0.62725005],\n",
       "       [ 0.88900089,  0.81537425,  0.78406256],\n",
       "       [-1.3970014 , -1.4083737 , -1.41131261]])"
      ]
     },
     "execution_count": 1,
     "metadata": {},
     "output_type": "execute_result"
    }
   ],
   "source": [
    "from sklearn import preprocessing \n",
    "import numpy as np\n",
    "X = np.array([[ 1.,    2.,    3.],\n",
    "              [ 1.5,   2.5,   3.5],\n",
    "              [ -1.5, -2.5,  -3.5]])\n",
    "# calculate mean\n",
    "X_mean = X.mean(axis=0)\n",
    "print(\"mean\\n\", X_mean, \"\\n\")\n",
    "# calculate variance \n",
    "X_std = X.std(axis=0)\n",
    "print(\"std\\n\", X_std, \"\\n\")\n",
    "# standardize X\n",
    "X1 = (X-X_mean)/X_std\n",
    "print(X1)\n",
    "X_scale = preprocessing.scale(X)\n",
    "X_scale"
   ]
  },
  {
   "cell_type": "code",
   "execution_count": 3,
   "metadata": {},
   "outputs": [
    {
     "name": "stdout",
     "output_type": "stream",
     "text": [
      "[[0.83333333 0.9        0.92857143]\n",
      " [1.         1.         1.        ]\n",
      " [0.         0.         0.        ]]\n"
     ]
    },
    {
     "data": {
      "text/plain": [
       "array([[0.83333333],\n",
       "       [0.9       ],\n",
       "       [0.92857143],\n",
       "       [1.        ],\n",
       "       [1.        ],\n",
       "       [1.        ],\n",
       "       [0.        ],\n",
       "       [0.        ],\n",
       "       [0.        ]])"
      ]
     },
     "execution_count": 3,
     "metadata": {},
     "output_type": "execute_result"
    }
   ],
   "source": [
    "min_max_scaler = preprocessing.MinMaxScaler()\n",
    "X_minMax = min_max_scaler.fit_transform(X)\n",
    "print(X_minMax)\n",
    "X_minMax_reshape = min_max_scaler.fit_transform(X).reshape(-1, 1)\n",
    "X_minMax_reshape"
   ]
  },
  {
   "cell_type": "code",
   "execution_count": null,
   "metadata": {},
   "outputs": [],
   "source": []
  }
 ],
 "metadata": {
  "kernelspec": {
   "display_name": "Python 3",
   "language": "python",
   "name": "python3"
  },
  "language_info": {
   "codemirror_mode": {
    "name": "ipython",
    "version": 3
   },
   "file_extension": ".py",
   "mimetype": "text/x-python",
   "name": "python",
   "nbconvert_exporter": "python",
   "pygments_lexer": "ipython3",
   "version": "3.7.3"
  }
 },
 "nbformat": 4,
 "nbformat_minor": 2
}
