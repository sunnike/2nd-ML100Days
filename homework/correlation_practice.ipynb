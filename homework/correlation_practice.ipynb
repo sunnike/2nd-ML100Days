{
 "cells": [
  {
   "cell_type": "code",
   "execution_count": 14,
   "metadata": {},
   "outputs": [],
   "source": [
    "import numpy as np\n",
    "import math \n",
    "import matplotlib\n",
    "import matplotlib.pyplot as plt\n",
    "\n",
    "%matplotlib inline\n"
   ]
  },
  {
   "cell_type": "code",
   "execution_count": 15,
   "metadata": {},
   "outputs": [
    {
     "data": {
      "text/plain": [
       "2.6760231688085216"
      ]
     },
     "execution_count": 15,
     "metadata": {},
     "output_type": "execute_result"
    }
   ],
   "source": [
    "#np.random.seed(1)\n",
    "A = np.random.randint(0, 10, 100)\n",
    "B = np.random.randint(0, 10, 100)\n",
    "np.std(A)"
   ]
  },
  {
   "cell_type": "code",
   "execution_count": 16,
   "metadata": {},
   "outputs": [],
   "source": [
    "def mean(x):\n",
    "    return sum(x) / len(x)"
   ]
  },
  {
   "cell_type": "code",
   "execution_count": 17,
   "metadata": {},
   "outputs": [],
   "source": [
    "def diff_mean(x):\n",
    "    x_bar = mean(x)\n",
    "    return [x_i - x_bar for x_i in x]"
   ]
  },
  {
   "cell_type": "code",
   "execution_count": 18,
   "metadata": {},
   "outputs": [],
   "source": [
    "def dot(x, y):\n",
    "    return sum(x_i * y_i for x_i, y_i in zip(x, y))"
   ]
  },
  {
   "cell_type": "code",
   "execution_count": 19,
   "metadata": {},
   "outputs": [],
   "source": [
    "def squart(x):\n",
    "    return dot(x, x)\n",
    "    "
   ]
  },
  {
   "cell_type": "code",
   "execution_count": 20,
   "metadata": {},
   "outputs": [],
   "source": [
    "# 變異數, 一個隨機變數的變異數描述的是它的離散程度，也就是該變數離其期望值的距離\n",
    "def variance(x):\n",
    "    n = len(x)\n",
    "    deviations = diff_mean(x)\n",
    "    print(\"variance = \", squart(deviations) / n)\n",
    "    return squart(deviations) / n\n"
   ]
  },
  {
   "cell_type": "code",
   "execution_count": 21,
   "metadata": {},
   "outputs": [],
   "source": [
    "def standard_deviation(x):\n",
    "    print(\"STD = \", math.sqrt(variance(x)))\n",
    "    return math.sqrt(variance(x))\n"
   ]
  },
  {
   "cell_type": "code",
   "execution_count": 22,
   "metadata": {},
   "outputs": [],
   "source": [
    "# 共異變數\n",
    "def covariance(x, y):\n",
    "    n = len(x)\n",
    "    return dot(diff_mean(x), diff_mean(y)) / (n -1)"
   ]
  },
  {
   "cell_type": "code",
   "execution_count": 23,
   "metadata": {},
   "outputs": [],
   "source": [
    "# 相關性\n",
    "def correlation(x, y):\n",
    "    stdev_x = standard_deviation(x)\n",
    "    stdev_y = standard_deviation(y)\n",
    "    if stdev_x > 0 and stdev_y > 0:\n",
    "        return covariance(x, y) / (stdev_x * stdev_y)\n",
    "    else:\n",
    "        return 0"
   ]
  },
  {
   "cell_type": "code",
   "execution_count": 24,
   "metadata": {},
   "outputs": [
    {
     "name": "stdout",
     "output_type": "stream",
     "text": [
      "\n",
      " convariance(A,A) 7.233434343434346\n",
      "\n",
      " convariance(B,B) 9.226161616161624\n",
      "\n",
      " convariance(A,B) 0.9067676767676769\n",
      "\n",
      " convariance(B,A) 0.9067676767676769\n",
      "python A.std() = 2.6760231688085216\n",
      "python B.std() = 3.022234272851792\n"
     ]
    }
   ],
   "source": [
    "print(\"\\n convariance(A,A)\", covariance(A, A))\n",
    "print(\"\\n convariance(B,B)\", covariance(B, B))\n",
    "print(\"\\n convariance(A,B)\", covariance(A, B))\n",
    "print(\"\\n convariance(B,A)\", covariance(B, A))\n",
    "\n",
    "print(\"python A.std() =\", A.std())\n",
    "print(\"python B.std() =\", B.std())"
   ]
  },
  {
   "cell_type": "code",
   "execution_count": 25,
   "metadata": {},
   "outputs": [
    {
     "name": "stdout",
     "output_type": "stream",
     "text": [
      "variance =  7.161100000000002\n",
      "STD =  2.6760231688085216\n",
      "variance =  7.161100000000002\n",
      "variance =  9.133900000000008\n",
      "STD =  3.0222342728517932\n",
      "variance =  9.133900000000008\n"
     ]
    },
    {
     "data": {
      "text/plain": [
       "0.11211869524387694"
      ]
     },
     "execution_count": 25,
     "metadata": {},
     "output_type": "execute_result"
    }
   ],
   "source": [
    "correlation(A, B)"
   ]
  },
  {
   "cell_type": "code",
   "execution_count": 26,
   "metadata": {},
   "outputs": [
    {
     "data": {
      "text/plain": [
       "array([[1.        , 0.11099751],\n",
       "       [0.11099751, 1.        ]])"
      ]
     },
     "execution_count": 26,
     "metadata": {},
     "output_type": "execute_result"
    }
   ],
   "source": [
    "np.corrcoef(A, B)"
   ]
  }
 ],
 "metadata": {
  "kernelspec": {
   "display_name": "Python 3",
   "language": "python",
   "name": "python3"
  },
  "language_info": {
   "codemirror_mode": {
    "name": "ipython",
    "version": 3
   },
   "file_extension": ".py",
   "mimetype": "text/x-python",
   "name": "python",
   "nbconvert_exporter": "python",
   "pygments_lexer": "ipython3",
   "version": "3.7.1"
  }
 },
 "nbformat": 4,
 "nbformat_minor": 2
}
